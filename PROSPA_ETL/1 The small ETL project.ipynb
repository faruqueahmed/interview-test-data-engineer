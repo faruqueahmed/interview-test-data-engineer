{
 "cells": [
  {
   "cell_type": "markdown",
   "metadata": {},
   "source": [
    "### Install required packages\n",
    "\n",
    "Scripts \"./scripts/install_packages.sh\" will install additional Python library using pip"
   ]
  },
  {
   "cell_type": "code",
   "execution_count": 1,
   "metadata": {},
   "outputs": [
    {
     "name": "stdout",
     "output_type": "stream",
     "text": [
      "Requirement already satisfied: pandas in /home/ahmed/my_project_env/lib/python3.6/site-packages (0.25.0)\n",
      "Requirement already satisfied: pytz>=2017.2 in /home/ahmed/my_project_env/lib/python3.6/site-packages (from pandas) (2019.1)\n",
      "Requirement already satisfied: numpy>=1.13.3 in /home/ahmed/my_project_env/lib/python3.6/site-packages (from pandas) (1.16.4)\n",
      "Requirement already satisfied: python-dateutil>=2.6.1 in /home/ahmed/my_project_env/lib/python3.6/site-packages (from pandas) (2.8.0)\n",
      "Requirement already satisfied: six>=1.5 in /home/ahmed/my_project_env/lib/python3.6/site-packages (from python-dateutil>=2.6.1->pandas) (1.12.0)\n",
      "Requirement already satisfied: sqlalchemy in /home/ahmed/my_project_env/lib/python3.6/site-packages (1.3.5)\n",
      "Requirement already satisfied: pymysql in /home/ahmed/my_project_env/lib/python3.6/site-packages (0.9.3)\n"
     ]
    }
   ],
   "source": [
    "! sh ./scripts/install_packages.sh"
   ]
  },
  {
   "cell_type": "markdown",
   "metadata": {},
   "source": [
    "### Create table\n",
    "Scripts \"./python/exec_ddl.py\" will create the required tables "
   ]
  },
  {
   "cell_type": "code",
   "execution_count": 1,
   "metadata": {
    "scrolled": true
   },
   "outputs": [
    {
     "name": "stdout",
     "output_type": "stream",
     "text": [
      "Tables created successfully\r\n"
     ]
    }
   ],
   "source": [
    "!python ./python/exec_ddl.py"
   ]
  },
  {
   "cell_type": "markdown",
   "metadata": {},
   "source": [
    "###  Move the CSV file to the landing area\n",
    "Proposed csv(pipe delimeted)files are in data.zip file. Following command will uncompress the zip files and files will be placed in landing area."
   ]
  },
  {
   "cell_type": "code",
   "execution_count": 2,
   "metadata": {},
   "outputs": [
    {
     "name": "stdout",
     "output_type": "stream",
     "text": [
      "Archive:  ../data.zip\n",
      "  inflating: ./DATA/STAGE/customer.tbl  \n",
      "  inflating: ./DATA/STAGE/lineitem.tbl  \n",
      "  inflating: ./DATA/STAGE/nation.tbl  \n",
      "  inflating: ./DATA/STAGE/orders.tbl  \n",
      "  inflating: ./DATA/STAGE/part.tbl   \n",
      "  inflating: ./DATA/STAGE/partsupp.tbl  \n",
      "  inflating: ./DATA/STAGE/region.tbl  \n",
      "  inflating: ./DATA/STAGE/supplier.tbl  \n"
     ]
    }
   ],
   "source": [
    "! unzip ../data.zip -d ./DATA/STAGE/"
   ]
  },
  {
   "cell_type": "code",
   "execution_count": 3,
   "metadata": {},
   "outputs": [
    {
     "name": "stdout",
     "output_type": "stream",
     "text": [
      "customer.tbl  nation.tbl  partsupp.tbl\tregion.tbl\r\n",
      "lineitem.tbl  orders.tbl  part.tbl\tsupplier.tbl\r\n"
     ]
    }
   ],
   "source": [
    "!ls  ./DATA/STAGE/"
   ]
  },
  {
   "cell_type": "markdown",
   "metadata": {},
   "source": [
    "### Start ETL\n",
    "Scripts \"./python/start_etl.py\" will load data into source image. Data curation was done and *.tbl files contain additional pipe(|)"
   ]
  },
  {
   "cell_type": "code",
   "execution_count": 3,
   "metadata": {},
   "outputs": [
    {
     "name": "stdout",
     "output_type": "stream",
     "text": [
      "/home/ahmed/interview-test-data-engineer/PROSPA_ETL/DATA/STAGE\n",
      "Start saving ......\n",
      "/home/ahmed/interview-test-data-engineer/PROSPA_ETL/DATA/STAGE\n",
      "Loading CSV to Dataframe:/home/ahmed/interview-test-data-engineer/PROSPA_ETL/DATA/STAGE/lineitem.tbl\n",
      "processed_file :/home/ahmed/interview-test-data-engineer/PROSPA_ETL/DATA/STAGE/lineitem.tbl\n",
      "archived_file :/home/ahmed/interview-test-data-engineer/PROSPA_ETL/DATA/PROCESSED/1563813027_lineitem.tbl\n",
      "Loading CSV to Dataframe:/home/ahmed/interview-test-data-engineer/PROSPA_ETL/DATA/STAGE/supplier.tbl\n",
      "processed_file :/home/ahmed/interview-test-data-engineer/PROSPA_ETL/DATA/STAGE/supplier.tbl\n",
      "archived_file :/home/ahmed/interview-test-data-engineer/PROSPA_ETL/DATA/PROCESSED/1563813027_supplier.tbl\n",
      "Loading CSV to Dataframe:/home/ahmed/interview-test-data-engineer/PROSPA_ETL/DATA/STAGE/partsupp.tbl\n",
      "processed_file :/home/ahmed/interview-test-data-engineer/PROSPA_ETL/DATA/STAGE/partsupp.tbl\n",
      "archived_file :/home/ahmed/interview-test-data-engineer/PROSPA_ETL/DATA/PROCESSED/1563813027_partsupp.tbl\n",
      "Loading CSV to Dataframe:/home/ahmed/interview-test-data-engineer/PROSPA_ETL/DATA/STAGE/customer.tbl\n",
      "processed_file :/home/ahmed/interview-test-data-engineer/PROSPA_ETL/DATA/STAGE/customer.tbl\n",
      "archived_file :/home/ahmed/interview-test-data-engineer/PROSPA_ETL/DATA/PROCESSED/1563813027_customer.tbl\n",
      "Loading CSV to Dataframe:/home/ahmed/interview-test-data-engineer/PROSPA_ETL/DATA/STAGE/nation.tbl\n",
      "processed_file :/home/ahmed/interview-test-data-engineer/PROSPA_ETL/DATA/STAGE/nation.tbl\n",
      "archived_file :/home/ahmed/interview-test-data-engineer/PROSPA_ETL/DATA/PROCESSED/1563813027_nation.tbl\n",
      "Loading CSV to Dataframe:/home/ahmed/interview-test-data-engineer/PROSPA_ETL/DATA/STAGE/orders.tbl\n",
      "processed_file :/home/ahmed/interview-test-data-engineer/PROSPA_ETL/DATA/STAGE/orders.tbl\n",
      "archived_file :/home/ahmed/interview-test-data-engineer/PROSPA_ETL/DATA/PROCESSED/1563813027_orders.tbl\n",
      "Loading CSV to Dataframe:/home/ahmed/interview-test-data-engineer/PROSPA_ETL/DATA/STAGE/part.tbl\n",
      "processed_file :/home/ahmed/interview-test-data-engineer/PROSPA_ETL/DATA/STAGE/part.tbl\n",
      "archived_file :/home/ahmed/interview-test-data-engineer/PROSPA_ETL/DATA/PROCESSED/1563813027_part.tbl\n",
      "Loading CSV to Dataframe:/home/ahmed/interview-test-data-engineer/PROSPA_ETL/DATA/STAGE/region.tbl\n",
      "processed_file :/home/ahmed/interview-test-data-engineer/PROSPA_ETL/DATA/STAGE/region.tbl\n",
      "archived_file :/home/ahmed/interview-test-data-engineer/PROSPA_ETL/DATA/PROCESSED/1563813027_region.tbl\n"
     ]
    }
   ],
   "source": [
    "!python  ./python/start_etl.py"
   ]
  },
  {
   "cell_type": "markdown",
   "metadata": {},
   "source": [
    "###  Prepare the Fact and Dimension tables\n"
   ]
  },
  {
   "cell_type": "code",
   "execution_count": 6,
   "metadata": {},
   "outputs": [
    {
     "name": "stdout",
     "output_type": "stream",
     "text": [
      "CUSTOMER_STATUS truncated\n",
      "CUSTOMER_STATUS refreshed\n",
      "CUSTOMER_DIM processed\n",
      "CUSTOMER_DIM processed\n",
      "PART_SUPP_DIM processed\n",
      "ORDER_ITEM_FACT processed\n"
     ]
    }
   ],
   "source": [
    "!python  ./python/prepare_dim_fact_table.py\t"
   ]
  },
  {
   "cell_type": "code",
   "execution_count": null,
   "metadata": {},
   "outputs": [],
   "source": []
  }
 ],
 "metadata": {
  "kernelspec": {
   "display_name": "Python 3",
   "language": "python",
   "name": "python3"
  },
  "language_info": {
   "codemirror_mode": {
    "name": "ipython",
    "version": 3
   },
   "file_extension": ".py",
   "mimetype": "text/x-python",
   "name": "python",
   "nbconvert_exporter": "python",
   "pygments_lexer": "ipython3",
   "version": "3.6.8"
  }
 },
 "nbformat": 4,
 "nbformat_minor": 2
}
